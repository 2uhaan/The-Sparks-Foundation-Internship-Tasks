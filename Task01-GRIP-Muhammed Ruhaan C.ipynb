{
 "cells": [
  {
   "cell_type": "markdown",
   "id": "04461aee",
   "metadata": {},
   "source": [
    "# Task 01 - Prediction using Supervised ML\n",
    "\n",
    "# GRIP @ The Sparks Foundation\n",
    "\n",
    "## Author : Muhammed Ruhaan C"
   ]
  },
  {
   "cell_type": "markdown",
   "id": "6787ac0f",
   "metadata": {},
   "source": [
    "In this linear regression task I tried to predict the percentage of marks that a student is expected to score based upon the number of hours they studied."
   ]
  },
  {
   "cell_type": "markdown",
   "id": "a7963be2",
   "metadata": {},
   "source": [
    "I Started by importing pandas and matplotlib, I also used sklearn and numpy later on."
   ]
  },
  {
   "cell_type": "code",
   "execution_count": 2,
   "id": "8521f7ea",
   "metadata": {},
   "outputs": [],
   "source": [
    "import pandas as pd\n",
    "import matplotlib.pyplot as plt"
   ]
  },
  {
   "cell_type": "markdown",
   "id": "64b0ef3d",
   "metadata": {},
   "source": [
    "### Reading the Data\n",
    "I've used pandas to read the csv file."
   ]
  },
  {
   "cell_type": "code",
   "execution_count": 3,
   "id": "31eb46e7",
   "metadata": {},
   "outputs": [
    {
     "data": {
      "text/html": [
       "<div>\n",
       "<style scoped>\n",
       "    .dataframe tbody tr th:only-of-type {\n",
       "        vertical-align: middle;\n",
       "    }\n",
       "\n",
       "    .dataframe tbody tr th {\n",
       "        vertical-align: top;\n",
       "    }\n",
       "\n",
       "    .dataframe thead th {\n",
       "        text-align: right;\n",
       "    }\n",
       "</style>\n",
       "<table border=\"1\" class=\"dataframe\">\n",
       "  <thead>\n",
       "    <tr style=\"text-align: right;\">\n",
       "      <th></th>\n",
       "      <th>Hours</th>\n",
       "      <th>Scores</th>\n",
       "    </tr>\n",
       "  </thead>\n",
       "  <tbody>\n",
       "    <tr>\n",
       "      <th>0</th>\n",
       "      <td>2.5</td>\n",
       "      <td>21</td>\n",
       "    </tr>\n",
       "    <tr>\n",
       "      <th>1</th>\n",
       "      <td>5.1</td>\n",
       "      <td>47</td>\n",
       "    </tr>\n",
       "    <tr>\n",
       "      <th>2</th>\n",
       "      <td>3.2</td>\n",
       "      <td>27</td>\n",
       "    </tr>\n",
       "    <tr>\n",
       "      <th>3</th>\n",
       "      <td>8.5</td>\n",
       "      <td>75</td>\n",
       "    </tr>\n",
       "    <tr>\n",
       "      <th>4</th>\n",
       "      <td>3.5</td>\n",
       "      <td>30</td>\n",
       "    </tr>\n",
       "    <tr>\n",
       "      <th>5</th>\n",
       "      <td>1.5</td>\n",
       "      <td>20</td>\n",
       "    </tr>\n",
       "    <tr>\n",
       "      <th>6</th>\n",
       "      <td>9.2</td>\n",
       "      <td>88</td>\n",
       "    </tr>\n",
       "    <tr>\n",
       "      <th>7</th>\n",
       "      <td>5.5</td>\n",
       "      <td>60</td>\n",
       "    </tr>\n",
       "    <tr>\n",
       "      <th>8</th>\n",
       "      <td>8.3</td>\n",
       "      <td>81</td>\n",
       "    </tr>\n",
       "    <tr>\n",
       "      <th>9</th>\n",
       "      <td>2.7</td>\n",
       "      <td>25</td>\n",
       "    </tr>\n",
       "  </tbody>\n",
       "</table>\n",
       "</div>"
      ],
      "text/plain": [
       "   Hours  Scores\n",
       "0    2.5      21\n",
       "1    5.1      47\n",
       "2    3.2      27\n",
       "3    8.5      75\n",
       "4    3.5      30\n",
       "5    1.5      20\n",
       "6    9.2      88\n",
       "7    5.5      60\n",
       "8    8.3      81\n",
       "9    2.7      25"
      ]
     },
     "execution_count": 3,
     "metadata": {},
     "output_type": "execute_result"
    }
   ],
   "source": [
    "file = 'student_scores - student_scores.csv'\n",
    "data = pd.read_csv(file)\n",
    "data.head(10)"
   ]
  },
  {
   "cell_type": "markdown",
   "id": "4adb77cc",
   "metadata": {},
   "source": [
    "### Data Visualization\n",
    "Im using using pandas and matplotlib to visualize the data."
   ]
  },
  {
   "cell_type": "code",
   "execution_count": 4,
   "id": "4bbaf5f1",
   "metadata": {},
   "outputs": [
    {
     "data": {
      "image/png": "[encoded data removed]",
      "text/plain": [
       "<Figure size 640x480 with 1 Axes>"
      ]
     },
     "metadata": {},
     "output_type": "display_data"
    }
   ],
   "source": [
    "data.plot(x='Hours', y='Scores', style='o')\n",
    "plt.xlabel(\"Hours\")\n",
    "plt.ylabel(\"Scores\")\n",
    "plt.title(\"Hrs vs %\")\n",
    "plt.show()"
   ]
  },
  {
   "cell_type": "markdown",
   "id": "35d0eca9",
   "metadata": {},
   "source": [
    "### Preprocessing \n",
    "division of data into \"attributes\" (inputs) and \"labels\" (outputs)."
   ]
  },
  {
   "cell_type": "code",
   "execution_count": 5,
   "id": "9e30e9c3",
   "metadata": {},
   "outputs": [],
   "source": [
    "X = data.iloc[:, :-1].values  \n",
    "Y = data.iloc[:, 1].values  "
   ]
  },
  {
   "cell_type": "markdown",
   "id": "48a2454a",
   "metadata": {},
   "source": [
    "### Model Training"
   ]
  },
  {
   "cell_type": "markdown",
   "id": "3bf1bcf0",
   "metadata": {},
   "source": [
    "here I'm importing sklearn for spliting training data and testing data. I'll also be using the LinearRegression model from sklearn."
   ]
  },
  {
   "cell_type": "code",
   "execution_count": 6,
   "id": "d917e5d4",
   "metadata": {},
   "outputs": [
    {
     "name": "stdout",
     "output_type": "stream",
     "text": [
      "Done\n"
     ]
    }
   ],
   "source": [
    "from sklearn.model_selection import train_test_split\n",
    "from sklearn.linear_model import LinearRegression\n",
    "x_train, x_test, y_train, y_test = train_test_split(X, Y, test_size=0.2)\n",
    "action = LinearRegression()\n",
    "action.fit(x_train, y_train)\n",
    "print(\"Done\")\n"
   ]
  },
  {
   "cell_type": "markdown",
   "id": "3af18abe",
   "metadata": {},
   "source": [
    "### Plotting the Line of Regression\n",
    "here, we visualize the best-fit line of regression."
   ]
  },
  {
   "cell_type": "code",
   "execution_count": 7,
   "id": "b5c33ea1",
   "metadata": {
    "scrolled": true
   },
   "outputs": [
    {
     "data": {
      "image/png": "[encoded data removed]",
      "text/plain": [
       "<Figure size 640x480 with 1 Axes>"
      ]
     },
     "metadata": {},
     "output_type": "display_data"
    }
   ],
   "source": [
    "line = action.coef_*X+action.intercept_\n",
    "plt.scatter(X, Y, color='red')\n",
    "plt.plot(X, line, color='green')\n",
    "plt.show()"
   ]
  },
  {
   "cell_type": "markdown",
   "id": "edec7893",
   "metadata": {},
   "source": [
    "### Making Predictions\n",
    "Now that we have trained our algorithm, it's time to test the model by making some predictions."
   ]
  },
  {
   "cell_type": "code",
   "execution_count": 8,
   "id": "04f2a433",
   "metadata": {},
   "outputs": [],
   "source": [
    "prediction = action.predict(x_test)"
   ]
  },
  {
   "cell_type": "code",
   "execution_count": 9,
   "id": "ecf004c8",
   "metadata": {},
   "outputs": [
    {
     "name": "stdout",
     "output_type": "stream",
     "text": [
      "[[5.9]\n",
      " [1.1]\n",
      " [4.8]\n",
      " [5.1]\n",
      " [6.1]]\n"
     ]
    }
   ],
   "source": [
    "print(x_test)"
   ]
  },
  {
   "cell_type": "markdown",
   "id": "83a8088b",
   "metadata": {},
   "source": [
    "### Comparing Actual result to the Predicted Model result"
   ]
  },
  {
   "cell_type": "code",
   "execution_count": 10,
   "id": "1600349a",
   "metadata": {},
   "outputs": [
    {
     "data": {
      "text/html": [
       "<div>\n",
       "<style scoped>\n",
       "    .dataframe tbody tr th:only-of-type {\n",
       "        vertical-align: middle;\n",
       "    }\n",
       "\n",
       "    .dataframe tbody tr th {\n",
       "        vertical-align: top;\n",
       "    }\n",
       "\n",
       "    .dataframe thead th {\n",
       "        text-align: right;\n",
       "    }\n",
       "</style>\n",
       "<table border=\"1\" class=\"dataframe\">\n",
       "  <thead>\n",
       "    <tr style=\"text-align: right;\">\n",
       "      <th></th>\n",
       "      <th>Actual</th>\n",
       "      <th>Prediction</th>\n",
       "    </tr>\n",
       "  </thead>\n",
       "  <tbody>\n",
       "    <tr>\n",
       "      <th>0</th>\n",
       "      <td>62</td>\n",
       "      <td>59.733222</td>\n",
       "    </tr>\n",
       "    <tr>\n",
       "      <th>1</th>\n",
       "      <td>17</td>\n",
       "      <td>12.447277</td>\n",
       "    </tr>\n",
       "    <tr>\n",
       "      <th>2</th>\n",
       "      <td>54</td>\n",
       "      <td>48.896860</td>\n",
       "    </tr>\n",
       "    <tr>\n",
       "      <th>3</th>\n",
       "      <td>47</td>\n",
       "      <td>51.852231</td>\n",
       "    </tr>\n",
       "    <tr>\n",
       "      <th>4</th>\n",
       "      <td>67</td>\n",
       "      <td>61.703470</td>\n",
       "    </tr>\n",
       "  </tbody>\n",
       "</table>\n",
       "</div>"
      ],
      "text/plain": [
       "   Actual  Prediction\n",
       "0      62   59.733222\n",
       "1      17   12.447277\n",
       "2      54   48.896860\n",
       "3      47   51.852231\n",
       "4      67   61.703470"
      ]
     },
     "execution_count": 10,
     "metadata": {},
     "output_type": "execute_result"
    }
   ],
   "source": [
    "frame = pd.DataFrame({'Actual': y_test, 'Prediction': prediction})\n",
    "frame"
   ]
  },
  {
   "cell_type": "markdown",
   "id": "2a153935",
   "metadata": {},
   "source": [
    "Im using numpy for Testing the model with our own data."
   ]
  },
  {
   "cell_type": "code",
   "execution_count": 11,
   "id": "6cb5854f",
   "metadata": {
    "scrolled": true
   },
   "outputs": [
    {
     "name": "stdout",
     "output_type": "stream",
     "text": [
      "prediction is 92.73487199737244\n"
     ]
    }
   ],
   "source": [
    "import numpy as np\n",
    "ourvalue = np.array([9.25])\n",
    "ourvalue = ourvalue.reshape(-1,1)\n",
    "ourprediction = action.predict(ourvalue)\n",
    "print(\"prediction is {}\".format(ourprediction[0]) )\n",
    "\n"
   ]
  },
  {
   "cell_type": "markdown",
   "id": "f1c495ef",
   "metadata": {},
   "source": [
    "### Evaluating the model\n",
    "The final step is to evaluate the performance of algorithm. This step is particularly important to compare how well different algorithms perform on a particular dataset. Here different errors have been calculated to compare the model performance and predict the accuracy."
   ]
  },
  {
   "cell_type": "code",
   "execution_count": 12,
   "id": "d689f578",
   "metadata": {},
   "outputs": [
    {
     "name": "stdout",
     "output_type": "stream",
     "text": [
      "mean absolute error:  4.414280494960719\n",
      "mean squared error:  20.700997823856692\n",
      "R-2 :  0.9330151507123456\n"
     ]
    }
   ],
   "source": [
    "from sklearn import metrics\n",
    "print(\"mean absolute error: \", metrics.mean_absolute_error(y_test, prediction))\n",
    "print(\"mean squared error: \", metrics.mean_squared_error(y_test, prediction))\n",
    "print(\"R-2 : \", metrics.r2_score(y_test, prediction))\n"
   ]
  },
  {
   "cell_type": "markdown",
   "id": "0174c952",
   "metadata": {},
   "source": [
    "### Conclusion\n",
    "I was successfully able to carry-out Prediction using Supervised ML task and was able to evaluate the model's performance on various parameters.\n",
    "## **Thank You**"
   ]
  }
 ],
 "metadata": {
  "kernelspec": {
   "display_name": "Python 3 (ipykernel)",
   "language": "python",
   "name": "python3"
  },
  "language_info": {
   "codemirror_mode": {
    "name": "ipython",
    "version": 3
   },
   "file_extension": ".py",
   "mimetype": "text/x-python",
   "name": "python",
   "nbconvert_exporter": "python",
   "pygments_lexer": "ipython3",
   "version": "3.9.13"
  }
 },
 "nbformat": 4,
 "nbformat_minor": 5
}
