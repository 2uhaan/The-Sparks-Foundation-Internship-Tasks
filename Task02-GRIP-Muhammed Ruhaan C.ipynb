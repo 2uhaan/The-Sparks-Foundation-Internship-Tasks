{
 "cells": [
  {
   "cell_type": "markdown",
   "id": "5ff40a20",
   "metadata": {},
   "source": [
    "# Task 02 - Prediction using Unsupervised ML\n",
    "\n",
    "# GRIP @ The Sparks Foundation\n",
    "\n",
    "## Author : Muhammed Ruhaan C"
   ]
  },
  {
   "cell_type": "markdown",
   "id": "8befbbd5",
   "metadata": {},
   "source": [
    "From the ‘Iris’ dataset,I tried to predict the optimum number of clusters using K-Means and represent it visually on a Scatter Plot."
   ]
  },
  {
   "cell_type": "markdown",
   "id": "1715596f",
   "metadata": {},
   "source": [
    "### Step 01: \n",
    "importing the libraries (pandas,matplotlib,sklearn)."
   ]
  },
  {
   "cell_type": "code",
   "execution_count": 60,
   "id": "e33c07e8",
   "metadata": {},
   "outputs": [],
   "source": [
    "import pandas as pd\n",
    "import matplotlib.pyplot as plt\n",
    "from sklearn import datasets"
   ]
  },
  {
   "cell_type": "markdown",
   "id": "51b58cd5",
   "metadata": {},
   "source": [
    "### Step 02:\n",
    "loading the iris dataset from sklearn."
   ]
  },
  {
   "cell_type": "code",
   "execution_count": 61,
   "id": "abd62cb5",
   "metadata": {},
   "outputs": [
    {
     "data": {
      "text/html": [
       "<div>\n",
       "<style scoped>\n",
       "    .dataframe tbody tr th:only-of-type {\n",
       "        vertical-align: middle;\n",
       "    }\n",
       "\n",
       "    .dataframe tbody tr th {\n",
       "        vertical-align: top;\n",
       "    }\n",
       "\n",
       "    .dataframe thead th {\n",
       "        text-align: right;\n",
       "    }\n",
       "</style>\n",
       "<table border=\"1\" class=\"dataframe\">\n",
       "  <thead>\n",
       "    <tr style=\"text-align: right;\">\n",
       "      <th></th>\n",
       "      <th>sepal length (cm)</th>\n",
       "      <th>sepal width (cm)</th>\n",
       "      <th>petal length (cm)</th>\n",
       "      <th>petal width (cm)</th>\n",
       "    </tr>\n",
       "  </thead>\n",
       "  <tbody>\n",
       "    <tr>\n",
       "      <th>0</th>\n",
       "      <td>5.1</td>\n",
       "      <td>3.5</td>\n",
       "      <td>1.4</td>\n",
       "      <td>0.2</td>\n",
       "    </tr>\n",
       "    <tr>\n",
       "      <th>1</th>\n",
       "      <td>4.9</td>\n",
       "      <td>3.0</td>\n",
       "      <td>1.4</td>\n",
       "      <td>0.2</td>\n",
       "    </tr>\n",
       "    <tr>\n",
       "      <th>2</th>\n",
       "      <td>4.7</td>\n",
       "      <td>3.2</td>\n",
       "      <td>1.3</td>\n",
       "      <td>0.2</td>\n",
       "    </tr>\n",
       "    <tr>\n",
       "      <th>3</th>\n",
       "      <td>4.6</td>\n",
       "      <td>3.1</td>\n",
       "      <td>1.5</td>\n",
       "      <td>0.2</td>\n",
       "    </tr>\n",
       "    <tr>\n",
       "      <th>4</th>\n",
       "      <td>5.0</td>\n",
       "      <td>3.6</td>\n",
       "      <td>1.4</td>\n",
       "      <td>0.2</td>\n",
       "    </tr>\n",
       "  </tbody>\n",
       "</table>\n",
       "</div>"
      ],
      "text/plain": [
       "   sepal length (cm)  sepal width (cm)  petal length (cm)  petal width (cm)\n",
       "0                5.1               3.5                1.4               0.2\n",
       "1                4.9               3.0                1.4               0.2\n",
       "2                4.7               3.2                1.3               0.2\n",
       "3                4.6               3.1                1.5               0.2\n",
       "4                5.0               3.6                1.4               0.2"
      ]
     },
     "execution_count": 61,
     "metadata": {},
     "output_type": "execute_result"
    }
   ],
   "source": [
    "iris = datasets.load_iris()\n",
    "data = pd.DataFrame(iris.data, columns = iris.feature_names)\n",
    "data.head() "
   ]
  },
  {
   "cell_type": "code",
   "execution_count": 62,
   "id": "de215253",
   "metadata": {},
   "outputs": [],
   "source": [
    "x = data.iloc[:, [0,1,2,3]].values"
   ]
  },
  {
   "cell_type": "code",
   "execution_count": 63,
   "id": "9533e702",
   "metadata": {},
   "outputs": [],
   "source": [
    "from sklearn.cluster import KMeans"
   ]
  },
  {
   "cell_type": "code",
   "execution_count": 64,
   "id": "29b1230b",
   "metadata": {},
   "outputs": [],
   "source": [
    "wcss = []"
   ]
  },
  {
   "cell_type": "markdown",
   "id": "bbe56a55",
   "metadata": {},
   "source": [
    "### Step 03:\n",
    "Finding the optimum number of clusters for k-means classification."
   ]
  },
  {
   "cell_type": "code",
   "execution_count": 65,
   "id": "0fb74a2a",
   "metadata": {},
   "outputs": [],
   "source": [
    "for i in range(1, 11):\n",
    "    kmeans = KMeans(n_clusters = i, init = 'k-means++', max_iter = 300, n_init = 10, random_state = 0)\n",
    "    kmeans.fit(x)\n",
    "    wcss.append(kmeans.inertia_)"
   ]
  },
  {
   "cell_type": "markdown",
   "id": "25b6bf2b",
   "metadata": {},
   "source": [
    "### Step 04:\n",
    "Plotting the results onto a line graph to observe the elbow."
   ]
  },
  {
   "cell_type": "code",
   "execution_count": 66,
   "id": "c331bc90",
   "metadata": {
    "scrolled": false
   },
   "outputs": [
    {
     "data": {
      "image/png": "[encoded data removed]",
      "text/plain": [
       "<Figure size 640x480 with 1 Axes>"
      ]
     },
     "metadata": {},
     "output_type": "display_data"
    }
   ],
   "source": [
    "plt.xlabel(\"Number of Clusters\")\n",
    "plt.ylabel(\"WCSS\")\n",
    "plt.title(\"Elbow Method\")\n",
    "plt.plot(range(1,11), wcss)\n",
    "plt.show()"
   ]
  },
  {
   "cell_type": "markdown",
   "id": "6e2607f7",
   "metadata": {},
   "source": [
    "### Step 05:\n",
    "Now we Apply KMeans to the iris dataset."
   ]
  },
  {
   "cell_type": "code",
   "execution_count": 67,
   "id": "04ba84eb",
   "metadata": {},
   "outputs": [],
   "source": [
    "kmeans = KMeans(n_clusters = 3, init = \"k-means++\", n_init = 300, random_state = 0)\n",
    "y = kmeans.fit_predict(x)"
   ]
  },
  {
   "cell_type": "markdown",
   "id": "f2316613",
   "metadata": {},
   "source": [
    "### Step 06\n",
    "Visualising the clusters.\n",
    "Plotting the centroids of the clusters."
   ]
  },
  {
   "cell_type": "code",
   "execution_count": 68,
   "id": "100d93f3",
   "metadata": {},
   "outputs": [
    {
     "data": {
      "text/plain": [
       "<matplotlib.legend.Legend at 0x7fa778480a90>"
      ]
     },
     "execution_count": 68,
     "metadata": {},
     "output_type": "execute_result"
    },
    {
     "data": {
      "image/png": "[encoded data removed]",
      "text/plain": [
       "<Figure size 640x480 with 1 Axes>"
      ]
     },
     "metadata": {},
     "output_type": "display_data"
    }
   ],
   "source": [
    "plt.scatter(x[y == 0,0], x[y == 0,1], c = 'red', label = \"01-setosa\")\n",
    "plt.scatter(x[y == 1,0], x[y == 1,1], c = 'blue', label = \"02-versicolour\")\n",
    "plt.scatter(x[y == 2,0], x[y == 2,1], c = 'green', label = \"03-virginica\")\n",
    "plt.scatter(kmeans.cluster_centers_[:,0], kmeans.cluster_centers_[:,1], c = 'yellow', label = \"centriods\")\n",
    "plt.legend()"
   ]
  },
  {
   "cell_type": "markdown",
   "id": "baa3cc9c",
   "metadata": {},
   "source": [
    "## Conclusion:\n",
    "I've Sucussfully predicted the optimum number of clusters in the Iris dataset and represented it visually with the centriods."
   ]
  },
  {
   "cell_type": "markdown",
   "id": "7ad05b71",
   "metadata": {},
   "source": [
    "## **Thank You**"
   ]
  }
 ],
 "metadata": {
  "kernelspec": {
   "display_name": "Python 3 (ipykernel)",
   "language": "python",
   "name": "python3"
  },
  "language_info": {
   "codemirror_mode": {
    "name": "ipython",
    "version": 3
   },
   "file_extension": ".py",
   "mimetype": "text/x-python",
   "name": "python",
   "nbconvert_exporter": "python",
   "pygments_lexer": "ipython3",
   "version": "3.9.13"
  }
 },
 "nbformat": 4,
 "nbformat_minor": 5
}
